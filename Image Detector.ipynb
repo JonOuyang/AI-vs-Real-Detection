{
 "cells": [
  {
   "cell_type": "code",
   "execution_count": 33,
   "id": "1fb5b379",
   "metadata": {},
   "outputs": [],
   "source": [
    "from PIL import Image\n",
    "import numpy as np\n",
    "import tensorflow as tf\n",
    "import os\n",
    "\n",
    "from tensorflow import keras\n",
    "from tensorflow.keras import layers, regularizers, optimizers\n",
    "from tensorflow.keras.layers import Input, Conv2D, ReLU, BatchNormalization,\\\n",
    "                                    Add, AveragePooling2D, MaxPooling2D, Flatten, Dense, Dropout\n",
    "from tensorflow.keras.regularizers import l1, l2\n",
    "from tensorflow.keras.models import Model\n",
    "from tensorflow.keras.callbacks import ReduceLROnPlateau\n",
    "from tensorflow.keras.callbacks import Callback\n",
    "from tensorflow import Tensor\n",
    "from tensorflow.keras.optimizers import Adam"
   ]
  },
  {
   "cell_type": "code",
   "execution_count": 29,
   "id": "decd996c",
   "metadata": {},
   "outputs": [
    {
     "name": "stdout",
     "output_type": "stream",
     "text": [
      "CPU times: total: 15 s\n",
      "Wall time: 15.8 s\n"
     ]
    }
   ],
   "source": [
    "%%time\n",
    "AIimages = np.array([])\n",
    "new_size = (500, 500)\n",
    "AI_path = \"D:\\AI vs Real Classification\\AiArtData\\AiArtData\"\n",
    "\n",
    "for file in os.listdir(AI_path):\n",
    "    if file.endswith(\".png\") or file.endswith(\".jpg\"):\n",
    "        img = Image.open(os.path.join(AI_path, file)).resize(new_size)\n",
    "        npArray = np.array(img)\n",
    "        AIimages.append(npArray)\n",
    "        \n",
    "RealImages = []\n",
    "Real_path = \"D:\\AI vs Real Classification\\RealArt\\RealArt\"\n",
    "\n",
    "for file in os.listdir(Real_path):\n",
    "    if file.endswith(\".png\") or file.endswith(\".jpg\"):\n",
    "        img = Image.open(os.path.join(Real_path, file)).resize(new_size)\n",
    "        npArray = np.array(img)\n",
    "        RealImages.append(npArray)"
   ]
  },
  {
   "cell_type": "code",
   "execution_count": 32,
   "id": "aaeef96d",
   "metadata": {},
   "outputs": [
    {
     "name": "stdout",
     "output_type": "stream",
     "text": [
      "500\n",
      "413\n",
      "(500, 500, 3)\n"
     ]
    }
   ],
   "source": [
    "print(len(AIimages))\n",
    "print(len(RealImages))\n",
    "print(AIimages[0].shape)"
   ]
  },
  {
   "cell_type": "code",
   "execution_count": 43,
   "id": "04c941b2",
   "metadata": {},
   "outputs": [
    {
     "name": "stdout",
     "output_type": "stream",
     "text": [
      "[1. 2.]\n"
     ]
    }
   ],
   "source": [
    "x = np.array([])\n",
    "x = np.append(x, np.array([1, 2]))\n",
    "print(x)"
   ]
  }
 ],
 "metadata": {
  "kernelspec": {
   "display_name": "Python (GPU)",
   "language": "python",
   "name": "tf-gpu"
  },
  "language_info": {
   "codemirror_mode": {
    "name": "ipython",
    "version": 3
   },
   "file_extension": ".py",
   "mimetype": "text/x-python",
   "name": "python",
   "nbconvert_exporter": "python",
   "pygments_lexer": "ipython3",
   "version": "3.9.16"
  }
 },
 "nbformat": 4,
 "nbformat_minor": 5
}
